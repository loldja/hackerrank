{
 "cells": [
  {
   "cell_type": "markdown",
   "metadata": {},
   "source": [
    "The following problems/ solutions correspond to the 10-day Statistics challenge available as of Jan 2017 on HackerRank"
   ]
  },
  {
   "cell_type": "markdown",
   "metadata": {},
   "source": [
    "# Day 0"
   ]
  },
  {
   "cell_type": "markdown",
   "metadata": {},
   "source": [
    "## Mean, Median, and Mode"
   ]
  },
  {
   "cell_type": "raw",
   "metadata": {},
   "source": [
    "10\n",
    "64630 11735 14216 99233 14470 4978 73429 38120 51135 67060"
   ]
  },
  {
   "cell_type": "raw",
   "metadata": {},
   "source": [
    "43900.6\n",
    "44627.5\n",
    "4978"
   ]
  },
  {
   "cell_type": "code",
   "execution_count": null,
   "metadata": {
    "collapsed": true
   },
   "outputs": [],
   "source": [
    "import sys\n",
    "from scipy.stats import mode\n",
    "\n",
    "n = int(input().strip())\n",
    "x = input().strip().split(' ')\n",
    "x = [int(num) for num in x]\n",
    "\n",
    "mean = round(sum(x)/n,1)\n",
    "\n",
    "x_sort = sorted(x)\n",
    "\n",
    "if n % 2 == 0:\n",
    "    median = (x_sort[n//2] + x_sort[n//2-1])/2\n",
    "else:\n",
    "    median = x_sort[n//2]\n",
    "\n",
    "mode = mode(x_sort)[0]\n",
    "\n",
    "print(mean)\n",
    "print(median)\n",
    "print(int(mode))"
   ]
  },
  {
   "cell_type": "markdown",
   "metadata": {},
   "source": [
    "## Weighted Mean"
   ]
  },
  {
   "cell_type": "raw",
   "metadata": {},
   "source": [
    "5\n",
    "10 40 30 50 20\n",
    "1 2 3 4 5"
   ]
  },
  {
   "cell_type": "raw",
   "metadata": {},
   "source": [
    "32.0"
   ]
  },
  {
   "cell_type": "code",
   "execution_count": null,
   "metadata": {
    "collapsed": true
   },
   "outputs": [],
   "source": [
    "import sys\n",
    "\n",
    "n = int(input().strip())\n",
    "x = input().strip().split(' ')\n",
    "x = [int(i) for i in x]\n",
    "w = input().strip().split(' ')\n",
    "w = [int(i) for i in w]\n",
    "\n",
    "new = [a*b for a,b in zip(x,w)]\n",
    "mean = round(sum(new)/sum(w),1)\n",
    "\n",
    "print(mean)"
   ]
  },
  {
   "cell_type": "markdown",
   "metadata": {},
   "source": [
    "# Day 1"
   ]
  },
  {
   "cell_type": "markdown",
   "metadata": {},
   "source": [
    "## Quartiles"
   ]
  },
  {
   "cell_type": "raw",
   "metadata": {},
   "source": [
    "9\n",
    "3 7 8 5 12 14 21 13 18"
   ]
  },
  {
   "cell_type": "raw",
   "metadata": {},
   "source": [
    "6\n",
    "12\n",
    "16"
   ]
  },
  {
   "cell_type": "code",
   "execution_count": null,
   "metadata": {
    "collapsed": true
   },
   "outputs": [],
   "source": [
    "n = int(input().strip())\n",
    "X = input().strip().split(\" \")\n",
    "X = [int(x) for x in X]\n",
    "X = sorted(X)\n",
    "\n",
    "def midpoint(L):\n",
    "    m = len(L)\n",
    "    if m % 2 != 0:\n",
    "        median = L[m//2]\n",
    "    else:\n",
    "        median = (L[m//2] + L[m//2-1])/2\n",
    "    return median\n",
    "\n",
    "if n % 2 !=0:\n",
    "    upper = X[n//2+1:]\n",
    "else:\n",
    "    upper = X[n//2:]\n",
    "    \n",
    "\n",
    "lower = X[:n//2]\n",
    "    \n",
    "print(int(midpoint(lower)))\n",
    "print(int(midpoint(X)))\n",
    "print(int(midpoint(upper)))"
   ]
  },
  {
   "cell_type": "markdown",
   "metadata": {},
   "source": [
    "## Interquartile Range"
   ]
  },
  {
   "cell_type": "raw",
   "metadata": {},
   "source": [
    "6\n",
    "6 12 8 10 20 16\n",
    "5 4 3 2 1 5"
   ]
  },
  {
   "cell_type": "raw",
   "metadata": {},
   "source": [
    "9.0"
   ]
  },
  {
   "cell_type": "code",
   "execution_count": null,
   "metadata": {
    "collapsed": true
   },
   "outputs": [],
   "source": [
    "n = int(input().strip())\n",
    "X = input().strip().split(\" \")\n",
    "X = [int(x) for x in X]\n",
    "F = input().strip().split(\" \") # F is frequency of each value x\n",
    "F = [int(f) for f in F]\n",
    "\n",
    "expanded = [] \n",
    "for x in range(n):\n",
    "    count = 0\n",
    "    while count < F[x]:\n",
    "        expanded.append(X[x])\n",
    "        count += 1        \n",
    "S = sorted(expanded) # defined as S in problem statement\n",
    "     \n",
    "    \n",
    "def midpoint(L):\n",
    "    m = len(L)\n",
    "    if m % 2 != 0:\n",
    "        median = L[m//2]\n",
    "    else:\n",
    "        median = (L[m//2] + L[m//2-1])/2\n",
    "    return median\n",
    "\n",
    "if len(S) % 2 !=0:\n",
    "    upper = S[len(S)//2+1:]\n",
    "else:\n",
    "    upper = S[len(S)//2:]\n",
    "    \n",
    "lower = S[:len(S)//2]\n",
    "\n",
    "\n",
    "iqr = midpoint(upper)-midpoint(lower)\n",
    "print (\"{:.1f}\".format(iqr)) # always show with one decimal place"
   ]
  },
  {
   "cell_type": "markdown",
   "metadata": {},
   "source": [
    "## Standard Deviation"
   ]
  },
  {
   "cell_type": "raw",
   "metadata": {},
   "source": [
    "5\n",
    "10 40 30 50 20"
   ]
  },
  {
   "cell_type": "raw",
   "metadata": {},
   "source": [
    "14.1"
   ]
  },
  {
   "cell_type": "code",
   "execution_count": null,
   "metadata": {
    "collapsed": true
   },
   "outputs": [],
   "source": [
    "import sys\n",
    "\n",
    "n = int(input().strip())\n",
    "X = input().strip().split(\" \")\n",
    "X = [int(x) for x in X]\n",
    "\n",
    "mean = sum(X)/n\n",
    "\n",
    "stdv = round((sum([(x-mean)**2 for x in X])/n)**(1/2),1)\n",
    "print(stdv)"
   ]
  },
  {
   "cell_type": "markdown",
   "metadata": {},
   "source": [
    "# Day 2"
   ]
  },
  {
   "cell_type": "markdown",
   "metadata": {},
   "source": [
    "## Basic Probability"
   ]
  },
  {
   "cell_type": "raw",
   "metadata": {},
   "source": [
    "In a single toss of 2 fair (evenly-weighted) six-sided dice, find the probability that their sum will be at most 9."
   ]
  },
  {
   "cell_type": "code",
   "execution_count": 6,
   "metadata": {
    "collapsed": false
   },
   "outputs": [
    {
     "name": "stdout",
     "output_type": "stream",
     "text": [
      "0.8333333333333334\n"
     ]
    }
   ],
   "source": [
    "# come back to this to optimize code\n",
    "\n",
    "d1, d2 = 6, 6\n",
    "yes, no = 0,0\n",
    "\n",
    "for i in range(d1):\n",
    "    for j in range(d2):\n",
    "        if i + j + 2 <= 9: # add 2 for 0-index adjustment\n",
    "            yes += 1\n",
    "        else:\n",
    "            no += 1\n",
    "print(yes/(yes+no)) "
   ]
  },
  {
   "cell_type": "code",
   "execution_count": 7,
   "metadata": {
    "collapsed": true
   },
   "outputs": [],
   "source": [
    "# 0.8333... is 5/6"
   ]
  },
  {
   "cell_type": "markdown",
   "metadata": {},
   "source": [
    "## More Dice"
   ]
  },
  {
   "cell_type": "raw",
   "metadata": {
    "collapsed": true
   },
   "source": [
    "For a single toss of 2 fair (evenly-weighted) dice, find the probability that the values rolled by each die will be different and their sum is 6."
   ]
  },
  {
   "cell_type": "code",
   "execution_count": 4,
   "metadata": {
    "collapsed": false
   },
   "outputs": [
    {
     "name": "stdout",
     "output_type": "stream",
     "text": [
      "4 / 36\n",
      "1.0 / 9.0\n"
     ]
    }
   ],
   "source": [
    "d1, d2 = 6, 6\n",
    "yes, no = 0,0\n",
    "\n",
    "for i in range(d1):\n",
    "    for j in range(d2):\n",
    "        if (i + j + 2 == 6) & (i != j): # add 2 for 0-index adjustment\n",
    "            yes += 1\n",
    "        else:\n",
    "            no += 1\n",
    "print(yes,\"/\",(yes+no)) \n",
    "print(yes/4,\"/\",(yes+no)/4)"
   ]
  },
  {
   "cell_type": "markdown",
   "metadata": {},
   "source": [
    "## Compound Event Probability"
   ]
  },
  {
   "cell_type": "raw",
   "metadata": {},
   "source": [
    "There are 3 urns: X, Y and Z.\n",
    "\n",
    "Urn X contains 4 red balls and 3 black balls.\n",
    "Urn Y contains 5 red balls and 4 black balls.\n",
    "Urn Z contains 4 red balls and 4 black balls.\n",
    "One ball is drawn from each urn. What is the probability that the 3 balls drawn consist of 2 red balls and 1 black ball?"
   ]
  },
  {
   "cell_type": "code",
   "execution_count": 12,
   "metadata": {
    "collapsed": false
   },
   "outputs": [
    {
     "name": "stdout",
     "output_type": "stream",
     "text": [
      "17/42\n"
     ]
    }
   ],
   "source": [
    "prob_X_red = 4/7\n",
    "prob_X_black = 3/7\n",
    "prob_Y_red = 5/9\n",
    "prob_Y_black = 4/9\n",
    "prob_Z_red = 1/2\n",
    "prob_Z_black = 1/2\n",
    "\n",
    "# possible draws\n",
    "# X Y Z\n",
    "#\n",
    "# R R B - 1\n",
    "# R B R - 2\n",
    "# B R R - 3\n",
    "\n",
    "prob_1 = prob_X_red * prob_Y_red * prob_Z_black\n",
    "prob_2 = prob_X_red * prob_Y_black * prob_Z_red\n",
    "prob_3 = prob_X_black * prob_Y_red * prob_Z_red\n",
    "\n",
    "from fractions import Fraction\n",
    "\n",
    "print(Fraction(prob_1+prob_2+prob_3).limit_denominator())"
   ]
  },
  {
   "cell_type": "markdown",
   "metadata": {},
   "source": [
    "# Day 3"
   ]
  },
  {
   "cell_type": "markdown",
   "metadata": {},
   "source": [
    "## Conditional Probability"
   ]
  },
  {
   "cell_type": "raw",
   "metadata": {},
   "source": [
    "Suppose a family has 2 children, one of which is a boy. What is the probability that both children are boys?"
   ]
  },
  {
   "cell_type": "code",
   "execution_count": 13,
   "metadata": {
    "collapsed": true
   },
   "outputs": [],
   "source": [
    "## Possibilities\n",
    "## B B\n",
    "## B G\n",
    "## G B\n",
    "## G G -- not possible\n",
    "## Therefore if order matters, we get 1/3"
   ]
  },
  {
   "cell_type": "markdown",
   "metadata": {},
   "source": [
    "## Cards of the Same Suit"
   ]
  },
  {
   "cell_type": "raw",
   "metadata": {},
   "source": [
    "You draw 2 cards from a standard 52-card deck without replacing them. What is the probability that both cards are of the same suit?"
   ]
  },
  {
   "cell_type": "code",
   "execution_count": null,
   "metadata": {
    "collapsed": true
   },
   "outputs": [],
   "source": [
    "first_draw = 1/4 #probability of any suit\n",
    "second_draw_same = 12/51\n",
    "second_draw_diff = 39/51"
   ]
  },
  {
   "cell_type": "markdown",
   "metadata": {},
   "source": [
    "## Drawing Marbles"
   ]
  },
  {
   "cell_type": "raw",
   "metadata": {},
   "source": [
    "A bag contains 3 red marbles and 4 blue marbles. Then, 2 marbles are drawn from the bag, at random, without replacement. If the first marble drawn is red, what is the probability that the second marble is blue?"
   ]
  },
  {
   "cell_type": "code",
   "execution_count": null,
   "metadata": {
    "collapsed": true
   },
   "outputs": [],
   "source": [
    "first_draw_red = 3/7\n",
    "second_draw_blue = 4/6"
   ]
  },
  {
   "cell_type": "markdown",
   "metadata": {},
   "source": [
    "# Day 4"
   ]
  },
  {
   "cell_type": "markdown",
   "metadata": {},
   "source": [
    "## Binomial Distribution I"
   ]
  },
  {
   "cell_type": "raw",
   "metadata": {},
   "source": [
    "The ratio of boys to girls for babies born in Russia is 1.09:1. If there is 1 child born per birth, what proportion of Russian families with exactly 6 children will have at least 3 boys?"
   ]
  },
  {
   "cell_type": "code",
   "execution_count": 4,
   "metadata": {
    "collapsed": false
   },
   "outputs": [],
   "source": [
    "p_boy = 1.09/2.09\n",
    "p_girl = 1/2.09\n",
    "\n",
    "# what proportion of families have 3, 4, 5, or 6 boys?"
   ]
  },
  {
   "cell_type": "code",
   "execution_count": 1,
   "metadata": {
    "collapsed": true
   },
   "outputs": [],
   "source": [
    "import scipy as sp"
   ]
  },
  {
   "cell_type": "code",
   "execution_count": 26,
   "metadata": {
    "collapsed": true
   },
   "outputs": [],
   "source": [
    "def pmf(total, successes):\n",
    "    return (sp.math.factorial(total)*p_boy**successes*p_girl**(total-successes))/(sp.math.factorial(successes)*sp.math.factorial(total-successes))"
   ]
  },
  {
   "cell_type": "code",
   "execution_count": 30,
   "metadata": {
    "collapsed": true
   },
   "outputs": [],
   "source": [
    "import numpy as np"
   ]
  },
  {
   "cell_type": "code",
   "execution_count": 31,
   "metadata": {
    "collapsed": false
   },
   "outputs": [
    {
     "data": {
      "text/plain": [
       "array([ 0.01199837,  0.09046772,  0.30429668,  0.61506145,  0.86911165,\n",
       "        0.97987753,  1.        ])"
      ]
     },
     "execution_count": 31,
     "metadata": {},
     "output_type": "execute_result"
    }
   ],
   "source": [
    "templist = []\n",
    "for i in range(7):\n",
    "    templist.append(pmf(6,i))\n",
    "np.cumsum(templist)"
   ]
  },
  {
   "cell_type": "code",
   "execution_count": 39,
   "metadata": {
    "collapsed": false
   },
   "outputs": [
    {
     "name": "stdout",
     "output_type": "stream",
     "text": [
      "0.696\n"
     ]
    }
   ],
   "source": [
    "cumsum = 0 \n",
    "for i in range(3,7):\n",
    "    cumsum += templist[i]\n",
    "print('{:0.3f}'.format(cumsum))"
   ]
  },
  {
   "cell_type": "markdown",
   "metadata": {},
   "source": [
    "## Binomial Distribution II"
   ]
  },
  {
   "cell_type": "raw",
   "metadata": {
    "collapsed": true
   },
   "source": [
    "A manufacturer of metal pistons finds that, on average, 12% of the pistons they manufacture are rejected because they are incorrectly sized. What is the probability that a batch of 10 pistons will contain:\n",
    "\n",
    "No more than 2 rejects?\n",
    "At least 2 rejects?"
   ]
  },
  {
   "cell_type": "code",
   "execution_count": 40,
   "metadata": {
    "collapsed": true
   },
   "outputs": [],
   "source": [
    "p_reject = 0.12\n",
    "n = 10"
   ]
  },
  {
   "cell_type": "code",
   "execution_count": 41,
   "metadata": {
    "collapsed": true
   },
   "outputs": [],
   "source": [
    "def factorial(n):\n",
    "    return 1 if n < 2 else n*factorial(n-1)"
   ]
  },
  {
   "cell_type": "code",
   "execution_count": 42,
   "metadata": {
    "collapsed": true
   },
   "outputs": [],
   "source": [
    "def n_choose_k(n, k):\n",
    "    return factorial(n)/(factorial(k)*factorial(n-k))"
   ]
  },
  {
   "cell_type": "code",
   "execution_count": 52,
   "metadata": {
    "collapsed": true
   },
   "outputs": [],
   "source": [
    "def pmf(n, k, p):\n",
    "    return n_choose_k(n,k)*p**k*(1-p)**(n-k)"
   ]
  },
  {
   "cell_type": "code",
   "execution_count": 53,
   "metadata": {
    "collapsed": false
   },
   "outputs": [
    {
     "name": "stdout",
     "output_type": "stream",
     "text": [
      "0.891\n"
     ]
    }
   ],
   "source": [
    "# cumulative no more than 2 rejects\n",
    "temp = 0\n",
    "for i in range(3):\n",
    "    temp += pmf(n, i, p_reject)\n",
    "print('{:0.3f}'.format(temp))"
   ]
  },
  {
   "cell_type": "code",
   "execution_count": 54,
   "metadata": {
    "collapsed": false
   },
   "outputs": [
    {
     "name": "stdout",
     "output_type": "stream",
     "text": [
      "0.342\n"
     ]
    }
   ],
   "source": [
    "# cumulative 2 or more rejects\n",
    "temp = 0\n",
    "for i in range(2,11):\n",
    "    temp += pmf(n, i, p_reject)\n",
    "print('{:0.3f}'.format(temp))"
   ]
  },
  {
   "cell_type": "markdown",
   "metadata": {},
   "source": [
    "## Geometric Distribution I"
   ]
  },
  {
   "cell_type": "raw",
   "metadata": {},
   "source": [
    "The probability that a machine produces a defective product is 1/3. What is the probability that the 1st defect is found during the 5th inspection?"
   ]
  },
  {
   "cell_type": "code",
   "execution_count": 63,
   "metadata": {
    "collapsed": true
   },
   "outputs": [],
   "source": [
    "# Geometic distribution is a special case of the negative binomial distribution \n",
    "# that deals with the numbere of Bernoulli trials required to get a success."
   ]
  },
  {
   "cell_type": "code",
   "execution_count": 58,
   "metadata": {
    "collapsed": true
   },
   "outputs": [],
   "source": [
    "p = 1/3\n",
    "inspection = 5"
   ]
  },
  {
   "cell_type": "code",
   "execution_count": 59,
   "metadata": {
    "collapsed": true
   },
   "outputs": [],
   "source": [
    "def g(n,p):\n",
    "    return (1-p)**(n-1)*p"
   ]
  },
  {
   "cell_type": "code",
   "execution_count": 62,
   "metadata": {
    "collapsed": false
   },
   "outputs": [
    {
     "name": "stdout",
     "output_type": "stream",
     "text": [
      "0.066\n"
     ]
    }
   ],
   "source": [
    "print('{:0.3f}'.format(g(inspection,p)))"
   ]
  },
  {
   "cell_type": "markdown",
   "metadata": {},
   "source": [
    "## Geometric Distribution II"
   ]
  },
  {
   "cell_type": "raw",
   "metadata": {},
   "source": [
    "The probability that a machine produces a defective product is 1/3. What is the probability that the 1st defect is found during the first 5 inspections?"
   ]
  },
  {
   "cell_type": "code",
   "execution_count": 72,
   "metadata": {
    "collapsed": false
   },
   "outputs": [
    {
     "name": "stdout",
     "output_type": "stream",
     "text": [
      "0.868\n"
     ]
    }
   ],
   "source": [
    "answer = 0\n",
    "for i in range(1,6):\n",
    "    answer += g(i,p)\n",
    "print('{:0.3f}'.format(answer))"
   ]
  },
  {
   "cell_type": "markdown",
   "metadata": {},
   "source": [
    "# Day 5"
   ]
  },
  {
   "cell_type": "markdown",
   "metadata": {},
   "source": [
    "## Poisson Distribution I"
   ]
  },
  {
   "cell_type": "raw",
   "metadata": {},
   "source": [
    "A random variable, X, follows Poisson distribution with mean of 2.5. Find the probability with which the random variable X is equal to 5."
   ]
  },
  {
   "cell_type": "code",
   "execution_count": 73,
   "metadata": {
    "collapsed": true
   },
   "outputs": [],
   "source": [
    "mu = 2.5\n",
    "X = 5"
   ]
  },
  {
   "cell_type": "code",
   "execution_count": 78,
   "metadata": {
    "collapsed": false
   },
   "outputs": [],
   "source": [
    "import math"
   ]
  },
  {
   "cell_type": "code",
   "execution_count": 80,
   "metadata": {
    "collapsed": true
   },
   "outputs": [],
   "source": [
    "def poisson(mu,k):\n",
    "    return mu**k*math.e**(-mu)/factorial(k)\n",
    "# where mu is avg number of successes, and\n",
    "# k is actual number of successes\n",
    "# P(k, mu) is probability of getting exactly k successes when the average number of successes is mu"
   ]
  },
  {
   "cell_type": "code",
   "execution_count": 82,
   "metadata": {
    "collapsed": false
   },
   "outputs": [
    {
     "name": "stdout",
     "output_type": "stream",
     "text": [
      "0.067\n"
     ]
    }
   ],
   "source": [
    "print('{:0.3f}'.format(poisson(mu,X)))"
   ]
  },
  {
   "cell_type": "markdown",
   "metadata": {},
   "source": [
    "## Poisson Distribution II"
   ]
  },
  {
   "cell_type": "raw",
   "metadata": {},
   "source": [
    "The manager of a industrial plant is planning to buy a machine of either type A or type B. For each day’s operation:\n",
    "\n",
    "-- The number of repairs, X, that machine A needs is a Poisson random variable with mean 0.88. The daily cost of operating A is C_A = 160 + 40X^2.\n",
    "\n",
    "-- The number of repairs, Y, that machine B needs is a Poisson random variable with mean 1.55. The daily cost of operating B is C_B = 128 + 40Y^2.\n",
    "\n",
    "Assume that the repairs take a negligible amount of time and the machines are maintained nightly to ensure that they operate like new at the start of each day. Find and print the expected daily cost for each machine."
   ]
  },
  {
   "cell_type": "code",
   "execution_count": 101,
   "metadata": {
    "collapsed": true
   },
   "outputs": [],
   "source": [
    "# Expectation(X) where X is a Poisson variable equals mu, equals variance of X"
   ]
  },
  {
   "cell_type": "code",
   "execution_count": 83,
   "metadata": {
    "collapsed": true
   },
   "outputs": [],
   "source": [
    "mu_A = 0.88\n",
    "mu_B = 1.55"
   ]
  },
  {
   "cell_type": "code",
   "execution_count": 95,
   "metadata": {
    "collapsed": false
   },
   "outputs": [],
   "source": [
    "def expectation_Xsquared(mu):\n",
    "    return mu + mu**2"
   ]
  },
  {
   "cell_type": "code",
   "execution_count": 99,
   "metadata": {
    "collapsed": true
   },
   "outputs": [],
   "source": [
    "cost_A = 160 + 40*expectation_Xsquared(mu_A)\n",
    "cost_B = 128 + 40*expectation_Xsquared(mu_B)"
   ]
  },
  {
   "cell_type": "code",
   "execution_count": 100,
   "metadata": {
    "collapsed": false
   },
   "outputs": [
    {
     "name": "stdout",
     "output_type": "stream",
     "text": [
      "226.176\n",
      "286.100\n"
     ]
    }
   ],
   "source": [
    "print('{:0.3f}'.format(cost_A))\n",
    "print('{:0.3f}'.format(cost_B))"
   ]
  },
  {
   "cell_type": "markdown",
   "metadata": {},
   "source": [
    "## Normal Distribution I"
   ]
  },
  {
   "cell_type": "raw",
   "metadata": {},
   "source": [
    "In a certain plant, the time taken to assemble a car is a random variable, X, having a normal distribution with a mean of 20 hours and a standard deviation of 2 hours. What is the probability that a car can be assembled at this plant in:\n",
    "\n",
    "Less than 19.5 hours?\n",
    "Between 20 and 22 hours?"
   ]
  },
  {
   "cell_type": "code",
   "execution_count": 105,
   "metadata": {
    "collapsed": true
   },
   "outputs": [],
   "source": [
    "import scipy.integrate as integrate"
   ]
  },
  {
   "cell_type": "code",
   "execution_count": 102,
   "metadata": {
    "collapsed": true
   },
   "outputs": [],
   "source": [
    "mu = 20\n",
    "sd = 2\n",
    "hours = 19.5\n",
    "hr_upper = 22\n",
    "hr_lower = 20"
   ]
  },
  {
   "cell_type": "code",
   "execution_count": 112,
   "metadata": {
    "collapsed": true
   },
   "outputs": [],
   "source": [
    "z = (hours - mu)/(sd*np.sqrt(2))"
   ]
  },
  {
   "cell_type": "code",
   "execution_count": 113,
   "metadata": {
    "collapsed": true
   },
   "outputs": [],
   "source": [
    "hey = lambda x: math.e**(-x)**2"
   ]
  },
  {
   "cell_type": "code",
   "execution_count": 114,
   "metadata": {
    "collapsed": false
   },
   "outputs": [
    {
     "name": "stderr",
     "output_type": "stream",
     "text": [
      "/Users/ANTARES/anaconda2/envs/snakes/lib/python3.5/site-packages/ipykernel/__main__.py:1: VisibleDeprecationWarning: using a non-integer number instead of an integer will result in an error in the future\n",
      "  if __name__ == '__main__':\n"
     ]
    }
   ],
   "source": [
    "erfz = 2/np.sqrt(math.pi) * integrate.quad(hey,0,z)"
   ]
  },
  {
   "cell_type": "code",
   "execution_count": 120,
   "metadata": {
    "collapsed": false
   },
   "outputs": [
    {
     "name": "stdout",
     "output_type": "stream",
     "text": [
      "0.411\n",
      "0.500\n"
     ]
    }
   ],
   "source": [
    "print('{:0.3f}'.format((0.5 * (1 + erfz[0])))) #this one\n",
    "print('{:0.3f}'.format((0.5 * (1 + erfz[1])))) #not this one"
   ]
  },
  {
   "cell_type": "code",
   "execution_count": 124,
   "metadata": {
    "collapsed": false
   },
   "outputs": [
    {
     "data": {
      "text/plain": [
       "0.4012936743170763"
      ]
     },
     "execution_count": 124,
     "metadata": {},
     "output_type": "execute_result"
    }
   ],
   "source": [
    "# alternatively\n",
    ".5*(1+math.erf(z))"
   ]
  },
  {
   "cell_type": "code",
   "execution_count": 126,
   "metadata": {
    "collapsed": false
   },
   "outputs": [
    {
     "name": "stdout",
     "output_type": "stream",
     "text": [
      "0.34134474606854304\n"
     ]
    }
   ],
   "source": [
    "# 20 hours is the mean. So up to this point is 50%. Between 22 and 20 hours should be 22 hrs cumulative minus .5\n",
    "z_alt = (hr_upper - mu)/(sd*np.sqrt(2))\n",
    "print(.5*(1+math.erf(z_alt))-.5)"
   ]
  },
  {
   "cell_type": "markdown",
   "metadata": {},
   "source": [
    "## Normal Distribution II"
   ]
  },
  {
   "cell_type": "raw",
   "metadata": {},
   "source": [
    "The final grades for a Physics exam taken by a large group of students have a mean of 70 and a standard deviation of 10. If we can approximate the distribution of these grades by a normal distribution, what percentage of the students:\n",
    "\n",
    "Scored higher than 80 (i.e., have a grade > 80)?\n",
    "Passed the test (i.e., have a grade >= 60)?\n",
    "Failed the test (i.e., have a grade < 60)?\n",
    "Find and print the answer to each question on a new line, rounded to a scale of 2 decimal places."
   ]
  },
  {
   "cell_type": "code",
   "execution_count": 127,
   "metadata": {
    "collapsed": true
   },
   "outputs": [],
   "source": [
    "mu, sd = 70, 10\n",
    "score_a = 80\n",
    "score_b = 60"
   ]
  },
  {
   "cell_type": "code",
   "execution_count": 128,
   "metadata": {
    "collapsed": true
   },
   "outputs": [],
   "source": [
    "def z(score,mu,sd):\n",
    "    return (score - mu)/(sd*np.sqrt(2))"
   ]
  },
  {
   "cell_type": "code",
   "execution_count": 129,
   "metadata": {
    "collapsed": true
   },
   "outputs": [],
   "source": [
    "z_a = z(score_a,mu,sd)\n",
    "z_b = z(score_b,mu,sd)"
   ]
  },
  {
   "cell_type": "code",
   "execution_count": 146,
   "metadata": {
    "collapsed": false
   },
   "outputs": [
    {
     "name": "stdout",
     "output_type": "stream",
     "text": [
      "15.87\n"
     ]
    }
   ],
   "source": [
    "#percentage of students scoring higher than 80\n",
    "print('{:0.2f}'.format(100*(1-(.5*(1+math.erf(z_a))))))"
   ]
  },
  {
   "cell_type": "code",
   "execution_count": 148,
   "metadata": {
    "collapsed": false
   },
   "outputs": [
    {
     "name": "stdout",
     "output_type": "stream",
     "text": [
      "84.13\n",
      "15.87\n"
     ]
    }
   ],
   "source": [
    "#percentage of students scoring higher than 60\n",
    "print('{:0.2f}'.format(100*(1-(.5*(1+math.erf(z_b))))))\n",
    "#percentage of students scoring lower than 60\n",
    "print('{:0.2f}'.format(100*((.5*(1+math.erf(z_b))))))"
   ]
  },
  {
   "cell_type": "markdown",
   "metadata": {},
   "source": [
    "# Day 6"
   ]
  },
  {
   "cell_type": "markdown",
   "metadata": {},
   "source": [
    "## Central Limit Theorem"
   ]
  },
  {
   "cell_type": "raw",
   "metadata": {},
   "source": [
    "A large elevator can transport a maximum of 9800 pounds. Suppose a load of cargo containing 49 boxes must be transported via the elevator. The box weight of this type of cargo follows a distribution with a mean of 205 pounds and a standard deviation of 15 pounds. Based on this information, what is the probability that all 49 boxes can be safely loaded into the freight elevator and transported?"
   ]
  },
  {
   "cell_type": "code",
   "execution_count": 149,
   "metadata": {
    "collapsed": true
   },
   "outputs": [],
   "source": [
    "max_weight = 9800\n",
    "mu, sd = 205, 15\n",
    "boxes = 49"
   ]
  },
  {
   "cell_type": "code",
   "execution_count": 151,
   "metadata": {
    "collapsed": true
   },
   "outputs": [],
   "source": [
    "# The central limit theorem (CLT) states that, for a large enough sample (n), the distribution of the sample mean \n",
    "# will approach normal distribution. This holds for a sample of independent random variables from any distribution \n",
    "# with a finite standard deviation. "
   ]
  },
  {
   "cell_type": "code",
   "execution_count": 166,
   "metadata": {
    "collapsed": true
   },
   "outputs": [],
   "source": [
    "# Each box has its own distribution, however these can be combined using the CLT\n",
    "z_clt = z(boxes,(mu*boxes),sd*np.sqrt(boxes))"
   ]
  },
  {
   "cell_type": "code",
   "execution_count": 161,
   "metadata": {
    "collapsed": false
   },
   "outputs": [
    {
     "data": {
      "text/plain": [
       "0.0"
      ]
     },
     "execution_count": 161,
     "metadata": {},
     "output_type": "execute_result"
    }
   ],
   "source": [
    ".5*(1+math.erf(z_clt))"
   ]
  },
  {
   "cell_type": "code",
   "execution_count": 167,
   "metadata": {
    "collapsed": false
   },
   "outputs": [
    {
     "data": {
      "text/plain": [
       "-67.316565568959319"
      ]
     },
     "execution_count": 167,
     "metadata": {},
     "output_type": "execute_result"
    }
   ],
   "source": [
    "z_clt"
   ]
  },
  {
   "cell_type": "code",
   "execution_count": 168,
   "metadata": {
    "collapsed": true
   },
   "outputs": [],
   "source": [
    "# wip"
   ]
  },
  {
   "cell_type": "code",
   "execution_count": null,
   "metadata": {
    "collapsed": true
   },
   "outputs": [],
   "source": []
  }
 ],
 "metadata": {
  "anaconda-cloud": {},
  "kernelspec": {
   "display_name": "Python [conda env:snakes]",
   "language": "python",
   "name": "conda-env-snakes-py"
  },
  "language_info": {
   "codemirror_mode": {
    "name": "ipython",
    "version": 3
   },
   "file_extension": ".py",
   "mimetype": "text/x-python",
   "name": "python",
   "nbconvert_exporter": "python",
   "pygments_lexer": "ipython3",
   "version": "3.5.2"
  }
 },
 "nbformat": 4,
 "nbformat_minor": 1
}
