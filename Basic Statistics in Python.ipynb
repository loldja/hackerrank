{
 "cells": [
  {
   "cell_type": "markdown",
   "metadata": {},
   "source": [
    "The following problems/ solutions correspond to the 10-day Statistics challenge available as of Jan 2017 on HackerRank"
   ]
  },
  {
   "cell_type": "markdown",
   "metadata": {},
   "source": [
    "# Day 0"
   ]
  },
  {
   "cell_type": "markdown",
   "metadata": {},
   "source": [
    "## Mean, Median, and Mode"
   ]
  },
  {
   "cell_type": "raw",
   "metadata": {},
   "source": [
    "10\n",
    "64630 11735 14216 99233 14470 4978 73429 38120 51135 67060"
   ]
  },
  {
   "cell_type": "raw",
   "metadata": {},
   "source": [
    "43900.6\n",
    "44627.5\n",
    "4978"
   ]
  },
  {
   "cell_type": "code",
   "execution_count": null,
   "metadata": {
    "collapsed": true
   },
   "outputs": [],
   "source": [
    "import sys\n",
    "from scipy.stats import mode\n",
    "\n",
    "n = int(input().strip())\n",
    "x = input().strip().split(' ')\n",
    "x = [int(num) for num in x]\n",
    "\n",
    "mean = round(sum(x)/n,1)\n",
    "\n",
    "x_sort = sorted(x)\n",
    "\n",
    "if n % 2 == 0:\n",
    "    median = (x_sort[n//2] + x_sort[n//2-1])/2\n",
    "else:\n",
    "    median = x_sort[n//2]\n",
    "\n",
    "mode = mode(x_sort)[0]\n",
    "\n",
    "print(mean)\n",
    "print(median)\n",
    "print(int(mode))"
   ]
  },
  {
   "cell_type": "markdown",
   "metadata": {},
   "source": [
    "## Weighted Mean"
   ]
  },
  {
   "cell_type": "raw",
   "metadata": {},
   "source": [
    "5\n",
    "10 40 30 50 20\n",
    "1 2 3 4 5"
   ]
  },
  {
   "cell_type": "raw",
   "metadata": {},
   "source": [
    "32.0"
   ]
  },
  {
   "cell_type": "code",
   "execution_count": null,
   "metadata": {
    "collapsed": true
   },
   "outputs": [],
   "source": [
    "import sys\n",
    "\n",
    "n = int(input().strip())\n",
    "x = input().strip().split(' ')\n",
    "x = [int(i) for i in x]\n",
    "w = input().strip().split(' ')\n",
    "w = [int(i) for i in w]\n",
    "\n",
    "new = [a*b for a,b in zip(x,w)]\n",
    "mean = round(sum(new)/sum(w),1)\n",
    "\n",
    "print(mean)"
   ]
  },
  {
   "cell_type": "markdown",
   "metadata": {},
   "source": [
    "# Day 1"
   ]
  },
  {
   "cell_type": "markdown",
   "metadata": {},
   "source": [
    "## Quartiles"
   ]
  },
  {
   "cell_type": "raw",
   "metadata": {},
   "source": [
    "9\n",
    "3 7 8 5 12 14 21 13 18"
   ]
  },
  {
   "cell_type": "raw",
   "metadata": {},
   "source": [
    "6\n",
    "12\n",
    "16"
   ]
  },
  {
   "cell_type": "code",
   "execution_count": null,
   "metadata": {
    "collapsed": true
   },
   "outputs": [],
   "source": [
    "n = int(input().strip())\n",
    "X = input().strip().split(\" \")\n",
    "X = [int(x) for x in X]\n",
    "X = sorted(X)\n",
    "\n",
    "def midpoint(L):\n",
    "    m = len(L)\n",
    "    if m % 2 != 0:\n",
    "        median = L[m//2]\n",
    "    else:\n",
    "        median = (L[m//2] + L[m//2-1])/2\n",
    "    return median\n",
    "\n",
    "if n % 2 !=0:\n",
    "    upper = X[n//2+1:]\n",
    "else:\n",
    "    upper = X[n//2:]\n",
    "    \n",
    "\n",
    "lower = X[:n//2]\n",
    "    \n",
    "print(int(midpoint(lower)))\n",
    "print(int(midpoint(X)))\n",
    "print(int(midpoint(upper)))"
   ]
  },
  {
   "cell_type": "markdown",
   "metadata": {},
   "source": [
    "## Interquartile Range"
   ]
  },
  {
   "cell_type": "raw",
   "metadata": {},
   "source": [
    "6\n",
    "6 12 8 10 20 16\n",
    "5 4 3 2 1 5"
   ]
  },
  {
   "cell_type": "raw",
   "metadata": {},
   "source": [
    "9.0"
   ]
  },
  {
   "cell_type": "code",
   "execution_count": null,
   "metadata": {
    "collapsed": true
   },
   "outputs": [],
   "source": [
    "n = int(input().strip())\n",
    "X = input().strip().split(\" \")\n",
    "X = [int(x) for x in X]\n",
    "F = input().strip().split(\" \") # F is frequency of each value x\n",
    "F = [int(f) for f in F]\n",
    "\n",
    "expanded = [] \n",
    "for x in range(n):\n",
    "    count = 0\n",
    "    while count < F[x]:\n",
    "        expanded.append(X[x])\n",
    "        count += 1        \n",
    "S = sorted(expanded) # defined as S in problem statement\n",
    "     \n",
    "    \n",
    "def midpoint(L):\n",
    "    m = len(L)\n",
    "    if m % 2 != 0:\n",
    "        median = L[m//2]\n",
    "    else:\n",
    "        median = (L[m//2] + L[m//2-1])/2\n",
    "    return median\n",
    "\n",
    "if len(S) % 2 !=0:\n",
    "    upper = S[len(S)//2+1:]\n",
    "else:\n",
    "    upper = S[len(S)//2:]\n",
    "    \n",
    "lower = S[:len(S)//2]\n",
    "\n",
    "\n",
    "iqr = midpoint(upper)-midpoint(lower)\n",
    "print (\"{:.1f}\".format(iqr)) # always show with one decimal place"
   ]
  },
  {
   "cell_type": "markdown",
   "metadata": {},
   "source": [
    "## Standard Deviation"
   ]
  },
  {
   "cell_type": "raw",
   "metadata": {},
   "source": [
    "5\n",
    "10 40 30 50 20"
   ]
  },
  {
   "cell_type": "raw",
   "metadata": {},
   "source": [
    "14.1"
   ]
  },
  {
   "cell_type": "code",
   "execution_count": null,
   "metadata": {
    "collapsed": true
   },
   "outputs": [],
   "source": [
    "import sys\n",
    "\n",
    "n = int(input().strip())\n",
    "X = input().strip().split(\" \")\n",
    "X = [int(x) for x in X]\n",
    "\n",
    "mean = sum(X)/n\n",
    "\n",
    "stdv = round((sum([(x-mean)**2 for x in X])/n)**(1/2),1)\n",
    "print(stdv)"
   ]
  },
  {
   "cell_type": "markdown",
   "metadata": {},
   "source": [
    "# Day 2"
   ]
  },
  {
   "cell_type": "markdown",
   "metadata": {},
   "source": [
    "## Basic Probability"
   ]
  },
  {
   "cell_type": "raw",
   "metadata": {},
   "source": [
    "In a single toss of 2 fair (evenly-weighted) six-sided dice, find the probability that their sum will be at most 9."
   ]
  },
  {
   "cell_type": "code",
   "execution_count": 6,
   "metadata": {
    "collapsed": false
   },
   "outputs": [
    {
     "name": "stdout",
     "output_type": "stream",
     "text": [
      "0.8333333333333334\n"
     ]
    }
   ],
   "source": [
    "# come back to this to optimize code\n",
    "\n",
    "d1, d2 = 6, 6\n",
    "yes, no = 0,0\n",
    "\n",
    "for i in range(d1):\n",
    "    for j in range(d2):\n",
    "        if i + j + 2 <= 9: # add 2 for 0-index adjustment\n",
    "            yes += 1\n",
    "        else:\n",
    "            no += 1\n",
    "print(yes/(yes+no)) "
   ]
  },
  {
   "cell_type": "code",
   "execution_count": 7,
   "metadata": {
    "collapsed": true
   },
   "outputs": [],
   "source": [
    "# 0.8333... is 5/6"
   ]
  },
  {
   "cell_type": "markdown",
   "metadata": {},
   "source": [
    "## More Dice"
   ]
  },
  {
   "cell_type": "raw",
   "metadata": {
    "collapsed": true
   },
   "source": [
    "For a single toss of 2 fair (evenly-weighted) dice, find the probability that the values rolled by each die will be different and their sum is 6."
   ]
  },
  {
   "cell_type": "code",
   "execution_count": 4,
   "metadata": {
    "collapsed": false
   },
   "outputs": [
    {
     "name": "stdout",
     "output_type": "stream",
     "text": [
      "4 / 36\n",
      "1.0 / 9.0\n"
     ]
    }
   ],
   "source": [
    "d1, d2 = 6, 6\n",
    "yes, no = 0,0\n",
    "\n",
    "for i in range(d1):\n",
    "    for j in range(d2):\n",
    "        if (i + j + 2 == 6) & (i != j): # add 2 for 0-index adjustment\n",
    "            yes += 1\n",
    "        else:\n",
    "            no += 1\n",
    "print(yes,\"/\",(yes+no)) \n",
    "print(yes/4,\"/\",(yes+no)/4)"
   ]
  },
  {
   "cell_type": "markdown",
   "metadata": {},
   "source": [
    "## Compound Event Probability"
   ]
  },
  {
   "cell_type": "raw",
   "metadata": {},
   "source": [
    "There are 3 urns: X, Y and Z.\n",
    "\n",
    "Urn X contains 4 red balls and 3 black balls.\n",
    "Urn Y contains 5 red balls and 4 black balls.\n",
    "Urn Z contains 4 red balls and 4 black balls.\n",
    "One ball is drawn from each urn. What is the probability that the 3 balls drawn consist of 2 red balls and 1 black ball?"
   ]
  },
  {
   "cell_type": "code",
   "execution_count": 12,
   "metadata": {
    "collapsed": false
   },
   "outputs": [
    {
     "name": "stdout",
     "output_type": "stream",
     "text": [
      "17/42\n"
     ]
    }
   ],
   "source": [
    "prob_X_red = 4/7\n",
    "prob_X_black = 3/7\n",
    "prob_Y_red = 5/9\n",
    "prob_Y_black = 4/9\n",
    "prob_Z_red = 1/2\n",
    "prob_Z_black = 1/2\n",
    "\n",
    "# possible draws\n",
    "# X Y Z\n",
    "#\n",
    "# R R B - 1\n",
    "# R B R - 2\n",
    "# B R R - 3\n",
    "\n",
    "prob_1 = prob_X_red * prob_Y_red * prob_Z_black\n",
    "prob_2 = prob_X_red * prob_Y_black * prob_Z_red\n",
    "prob_3 = prob_X_black * prob_Y_red * prob_Z_red\n",
    "\n",
    "from fractions import Fraction\n",
    "\n",
    "print(Fraction(prob_1+prob_2+prob_3).limit_denominator())"
   ]
  },
  {
   "cell_type": "markdown",
   "metadata": {},
   "source": [
    "# Day 3"
   ]
  },
  {
   "cell_type": "markdown",
   "metadata": {},
   "source": [
    "## Conditional Probability"
   ]
  },
  {
   "cell_type": "raw",
   "metadata": {},
   "source": [
    "Suppose a family has 2 children, one of which is a boy. What is the probability that both children are boys?"
   ]
  },
  {
   "cell_type": "code",
   "execution_count": 13,
   "metadata": {
    "collapsed": true
   },
   "outputs": [],
   "source": [
    "## Possibilities\n",
    "## B B\n",
    "## B G\n",
    "## G B\n",
    "## G G -- not possible\n",
    "## Therefore if order matters, we get 1/3"
   ]
  },
  {
   "cell_type": "markdown",
   "metadata": {},
   "source": [
    "## Cards of the Same Suit"
   ]
  },
  {
   "cell_type": "raw",
   "metadata": {},
   "source": [
    "You draw 2 cards from a standard 52-card deck without replacing them. What is the probability that both cards are of the same suit?"
   ]
  },
  {
   "cell_type": "code",
   "execution_count": null,
   "metadata": {
    "collapsed": true
   },
   "outputs": [],
   "source": [
    "first_draw = 1/4 #probability of any suit\n",
    "second_draw_same = 12/51\n",
    "second_draw_diff = 39/51"
   ]
  },
  {
   "cell_type": "markdown",
   "metadata": {},
   "source": [
    "## Drawing Marbles"
   ]
  },
  {
   "cell_type": "raw",
   "metadata": {},
   "source": [
    "A bag contains 3 red marbles and 4 blue marbles. Then, 2 marbles are drawn from the bag, at random, without replacement. If the first marble drawn is red, what is the probability that the second marble is blue?"
   ]
  },
  {
   "cell_type": "code",
   "execution_count": null,
   "metadata": {
    "collapsed": true
   },
   "outputs": [],
   "source": [
    "first_draw_red = 3/7\n",
    "second_draw_blue = 4/6"
   ]
  }
 ],
 "metadata": {
  "anaconda-cloud": {},
  "kernelspec": {
   "display_name": "Python [conda env:snakes]",
   "language": "python",
   "name": "conda-env-snakes-py"
  },
  "language_info": {
   "codemirror_mode": {
    "name": "ipython",
    "version": 3
   },
   "file_extension": ".py",
   "mimetype": "text/x-python",
   "name": "python",
   "nbconvert_exporter": "python",
   "pygments_lexer": "ipython3",
   "version": "3.5.2"
  }
 },
 "nbformat": 4,
 "nbformat_minor": 1
}
