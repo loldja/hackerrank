{
 "cells": [
  {
   "cell_type": "markdown",
   "metadata": {},
   "source": [
    "The following problems/ solutions correspond to the 10-day Statistics challenge available as of Jan 2017 on HackerRank"
   ]
  },
  {
   "cell_type": "markdown",
   "metadata": {},
   "source": [
    "# Day 0"
   ]
  },
  {
   "cell_type": "markdown",
   "metadata": {},
   "source": [
    "## Mean, Median, and Mode"
   ]
  },
  {
   "cell_type": "raw",
   "metadata": {},
   "source": [
    "10\n",
    "64630 11735 14216 99233 14470 4978 73429 38120 51135 67060"
   ]
  },
  {
   "cell_type": "raw",
   "metadata": {},
   "source": [
    "43900.6\n",
    "44627.5\n",
    "4978"
   ]
  },
  {
   "cell_type": "code",
   "execution_count": null,
   "metadata": {
    "collapsed": true
   },
   "outputs": [],
   "source": [
    "import sys\n",
    "from scipy.stats import mode\n",
    "\n",
    "n = int(input().strip())\n",
    "x = input().strip().split(' ')\n",
    "x = [int(num) for num in x]\n",
    "\n",
    "mean = round(sum(x)/n,1)\n",
    "\n",
    "x_sort = sorted(x)\n",
    "\n",
    "if n % 2 == 0:\n",
    "    median = (x_sort[n//2] + x_sort[n//2-1])/2\n",
    "else:\n",
    "    median = x_sort[n//2]\n",
    "\n",
    "mode = mode(x_sort)[0]\n",
    "\n",
    "print(mean)\n",
    "print(median)\n",
    "print(int(mode))"
   ]
  },
  {
   "cell_type": "markdown",
   "metadata": {},
   "source": [
    "## Weighted Mean"
   ]
  },
  {
   "cell_type": "raw",
   "metadata": {},
   "source": [
    "5\n",
    "10 40 30 50 20\n",
    "1 2 3 4 5"
   ]
  },
  {
   "cell_type": "raw",
   "metadata": {},
   "source": [
    "32.0"
   ]
  },
  {
   "cell_type": "code",
   "execution_count": null,
   "metadata": {
    "collapsed": true
   },
   "outputs": [],
   "source": [
    "import sys\n",
    "\n",
    "n = int(input().strip())\n",
    "x = input().strip().split(' ')\n",
    "x = [int(i) for i in x]\n",
    "w = input().strip().split(' ')\n",
    "w = [int(i) for i in w]\n",
    "\n",
    "new = [a*b for a,b in zip(x,w)]\n",
    "mean = round(sum(new)/sum(w),1)\n",
    "\n",
    "print(mean)"
   ]
  },
  {
   "cell_type": "markdown",
   "metadata": {},
   "source": [
    "# Day 1"
   ]
  },
  {
   "cell_type": "markdown",
   "metadata": {},
   "source": [
    "## Quartiles"
   ]
  },
  {
   "cell_type": "raw",
   "metadata": {},
   "source": [
    "9\n",
    "3 7 8 5 12 14 21 13 18"
   ]
  },
  {
   "cell_type": "raw",
   "metadata": {},
   "source": [
    "6\n",
    "12\n",
    "16"
   ]
  },
  {
   "cell_type": "code",
   "execution_count": null,
   "metadata": {
    "collapsed": true
   },
   "outputs": [],
   "source": [
    "n = int(input().strip())\n",
    "X = input().strip().split(\" \")\n",
    "X = [int(x) for x in X]\n",
    "X = sorted(X)\n",
    "\n",
    "def midpoint(L):\n",
    "    m = len(L)\n",
    "    if m % 2 != 0:\n",
    "        median = L[m//2]\n",
    "    else:\n",
    "        median = (L[m//2] + L[m//2-1])/2\n",
    "    return median\n",
    "\n",
    "if n % 2 !=0:\n",
    "    upper = X[n//2+1:]\n",
    "else:\n",
    "    upper = X[n//2:]\n",
    "    \n",
    "\n",
    "lower = X[:n//2]\n",
    "    \n",
    "print(int(midpoint(lower)))\n",
    "print(int(midpoint(X)))\n",
    "print(int(midpoint(upper)))"
   ]
  },
  {
   "cell_type": "markdown",
   "metadata": {},
   "source": [
    "## Interquartile Range"
   ]
  },
  {
   "cell_type": "raw",
   "metadata": {},
   "source": [
    "6\n",
    "6 12 8 10 20 16\n",
    "5 4 3 2 1 5"
   ]
  },
  {
   "cell_type": "raw",
   "metadata": {},
   "source": [
    "9.0"
   ]
  },
  {
   "cell_type": "code",
   "execution_count": null,
   "metadata": {
    "collapsed": true
   },
   "outputs": [],
   "source": [
    "n = int(input().strip())\n",
    "X = input().strip().split(\" \")\n",
    "X = [int(x) for x in X]\n",
    "F = input().strip().split(\" \") # F is frequency of each value x\n",
    "F = [int(f) for f in F]\n",
    "\n",
    "expanded = [] \n",
    "for x in range(n):\n",
    "    count = 0\n",
    "    while count < F[x]:\n",
    "        expanded.append(X[x])\n",
    "        count += 1        \n",
    "S = sorted(expanded) # defined as S in problem statement\n",
    "     \n",
    "    \n",
    "def midpoint(L):\n",
    "    m = len(L)\n",
    "    if m % 2 != 0:\n",
    "        median = L[m//2]\n",
    "    else:\n",
    "        median = (L[m//2] + L[m//2-1])/2\n",
    "    return median\n",
    "\n",
    "if len(S) % 2 !=0:\n",
    "    upper = S[len(S)//2+1:]\n",
    "else:\n",
    "    upper = S[len(S)//2:]\n",
    "    \n",
    "lower = S[:len(S)//2]\n",
    "\n",
    "\n",
    "iqr = midpoint(upper)-midpoint(lower)\n",
    "print (\"{:.1f}\".format(iqr)) # always show with one decimal place"
   ]
  },
  {
   "cell_type": "markdown",
   "metadata": {},
   "source": [
    "## Standard Deviation"
   ]
  },
  {
   "cell_type": "raw",
   "metadata": {},
   "source": [
    "5\n",
    "10 40 30 50 20"
   ]
  },
  {
   "cell_type": "raw",
   "metadata": {},
   "source": [
    "14.1"
   ]
  },
  {
   "cell_type": "code",
   "execution_count": null,
   "metadata": {
    "collapsed": true
   },
   "outputs": [],
   "source": [
    "import sys\n",
    "\n",
    "n = int(input().strip())\n",
    "X = input().strip().split(\" \")\n",
    "X = [int(x) for x in X]\n",
    "\n",
    "mean = sum(X)/n\n",
    "\n",
    "stdv = round((sum([(x-mean)**2 for x in X])/n)**(1/2),1)\n",
    "print(stdv)"
   ]
  },
  {
   "cell_type": "markdown",
   "metadata": {},
   "source": [
    "# Day 2"
   ]
  },
  {
   "cell_type": "markdown",
   "metadata": {},
   "source": [
    "## Basic Probability"
   ]
  },
  {
   "cell_type": "raw",
   "metadata": {},
   "source": [
    "In a single toss of 2 fair (evenly-weighted) six-sided dice, find the probability that their sum will be at most 9."
   ]
  },
  {
   "cell_type": "code",
   "execution_count": 6,
   "metadata": {
    "collapsed": false
   },
   "outputs": [
    {
     "name": "stdout",
     "output_type": "stream",
     "text": [
      "0.8333333333333334\n"
     ]
    }
   ],
   "source": [
    "# come back to this to optimize code\n",
    "\n",
    "d1, d2 = 6, 6\n",
    "yes, no = 0,0\n",
    "\n",
    "for i in range(d1):\n",
    "    for j in range(d2):\n",
    "        if i + j + 2 <= 9: # add 2 for 0-index adjustment\n",
    "            yes += 1\n",
    "        else:\n",
    "            no += 1\n",
    "print(yes/(yes+no)) "
   ]
  },
  {
   "cell_type": "code",
   "execution_count": 7,
   "metadata": {
    "collapsed": true
   },
   "outputs": [],
   "source": [
    "# 0.8333... is 5/6"
   ]
  },
  {
   "cell_type": "code",
   "execution_count": null,
   "metadata": {
    "collapsed": true
   },
   "outputs": [],
   "source": []
  }
 ],
 "metadata": {
  "anaconda-cloud": {},
  "kernelspec": {
   "display_name": "Python [conda env:snakes]",
   "language": "python",
   "name": "conda-env-snakes-py"
  },
  "language_info": {
   "codemirror_mode": {
    "name": "ipython",
    "version": 3
   },
   "file_extension": ".py",
   "mimetype": "text/x-python",
   "name": "python",
   "nbconvert_exporter": "python",
   "pygments_lexer": "ipython3",
   "version": "3.5.2"
  }
 },
 "nbformat": 4,
 "nbformat_minor": 1
}
